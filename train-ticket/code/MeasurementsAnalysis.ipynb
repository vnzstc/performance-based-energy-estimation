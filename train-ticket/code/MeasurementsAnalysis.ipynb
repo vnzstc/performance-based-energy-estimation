{
 "cells": [
  {
   "cell_type": "markdown",
   "id": "d737ee22",
   "metadata": {},
   "source": [
    "Directory three of the project:\n",
    "\n",
    "```\n",
    "├── code\n",
    "├── data\n",
    "├── jmxs\n",
    "├── model\n",
    "├── pcaps\n",
    "└── results\n",
    "```\n",
    "\n",
    "The working dir of the script is the code/ directory"
   ]
  },
  {
   "cell_type": "markdown",
   "id": "4ffe53ce",
   "metadata": {},
   "source": [
    "The code will be used to extract data to instrument the model. The data has been obtained from the system executing the application. The perform N readings in a observation time interval T. \n",
    "\n",
    "    1. read data from the data dir/ - \n",
    "    \n",
    "    ```\n",
    "    ├── 10-38\n",
    "    │   ├── containers_pre.json\n",
    "    │   ├── containers_post.json\n",
    "    │   ├── energy.csv\n",
    "    │   ├── system_pre.json\n",
    "    │   ├── system_post.json\n",
    "    │   └── requests.jtl\n",
    "    ├── 11-38\n",
    "    │   ├── containers_pre.json\n",
    "    │   ├── containers_post.json\n",
    "    │   ├── energy.csv\n",
    "    │   ├── system_pre.json\n",
    "    │   ├── system_post.json\n",
    "    │   └── requests.jtl\n",
    "    ```\n",
    "       \n",
    "    The name of the directory contains two number: the leftmost number refers to the ith reading while the second one the number of customers severed during the run."
   ]
  },
  {
   "cell_type": "code",
   "execution_count": 1,
   "id": "c7932873",
   "metadata": {},
   "outputs": [],
   "source": [
    "from pathlib import Path\n",
    "import pandas as pd\n",
    "import numpy as np\n",
    "from itertools import chain\n",
    "import csv, json, glob, os\n",
    "import matplotlib.pyplot as plt"
   ]
  },
  {
   "cell_type": "markdown",
   "id": "a5522184",
   "metadata": {},
   "source": [
    "# Requests Tree\n",
    "\n",
    "This section of the notebook reads the .csv containing the source and the destination of the requests"
   ]
  },
  {
   "cell_type": "code",
   "execution_count": 2,
   "id": "296a8127",
   "metadata": {},
   "outputs": [],
   "source": [
    "CONVERSATIONS = pd.read_csv(\"experiment_configuration_data/conversations_names.csv\")"
   ]
  },
  {
   "cell_type": "raw",
   "id": "8c41766a",
   "metadata": {},
   "source": [
    "def filter_requests(name):\n",
    "    return CONVERSATIONS[(CONVERSATIONS == name).any(axis=1)]"
   ]
  },
  {
   "cell_type": "raw",
   "id": "fcf9b145",
   "metadata": {},
   "source": [
    "filter_requests('ui')"
   ]
  },
  {
   "cell_type": "markdown",
   "id": "7e6a2be2",
   "metadata": {},
   "source": [
    "### Energy Estimation "
   ]
  },
  {
   "cell_type": "code",
   "execution_count": 3,
   "id": "c8f67d1b",
   "metadata": {},
   "outputs": [],
   "source": [
    "DATA = f\"../validation_results\" # directory containing the profile data\n",
    "CUST = 400 # Number of customers for analysis"
   ]
  },
  {
   "cell_type": "code",
   "execution_count": 4,
   "id": "97cea62c",
   "metadata": {},
   "outputs": [],
   "source": [
    "DIRS = list(map(lambda x: f\"{DATA}/{x}\", os.listdir(DATA)))\n",
    "# retrieves the dir having number of customers {CUST}\n",
    "DIRS = list(filter(lambda x: x.find(f\"-{CUST}\") != -1, DIRS)) "
   ]
  },
  {
   "cell_type": "code",
   "execution_count": 5,
   "id": "7af4915f",
   "metadata": {},
   "outputs": [],
   "source": [
    "def get_energy_single_run(run):\n",
    "    return np.trapz(run['power'], run['time'])\n",
    "\n",
    "def get_energy_over_trial(trials):\n",
    "    return np.array(\n",
    "        [np.trapz(x['power'], x['time']) for x in trials]\n",
    "    )\n",
    "\n",
    "def get_duration(trials):\n",
    "    return np.array([x['time'].iloc[-1] for x in trials])\n",
    "\n",
    "def get_e_value(trials):\n",
    "    return get_energy_over_trial(trials)/get_duration(trials)\n",
    "\n",
    "def print_stats(measurements):\n",
    "    energy = get_energy_over_trial(measurements)\n",
    "    e = get_e_value(measurements)    \n",
    "    duration = get_duration(measurements)\n",
    "    \n",
    "    print(\n",
    "            f\"# Energy Per Visit(Joule/Visit):\\n\",\n",
    "            f\"## Mean:\\t\\t\\t{energy.mean()}\", \n",
    "            f\"## Min-Max:\\t\\t\\t[{energy.min()}, {energy.max()}]\",\n",
    "            f\"## Var:\\t\\t\\t\\t{energy.var()}\", \n",
    "            f\"## Std:\\t\\t\\t\\t{energy.std()}\", \n",
    "            '\\n'\n",
    "            f\"# Average Response Time:\\t{duration.mean()}\",\n",
    "            f\"# e (Joule/s):\\t\\t\\t{e.mean()}, [{e.min()}, {e.max()}]\",\n",
    "            sep='\\n'\n",
    "    )"
   ]
  },
  {
   "cell_type": "code",
   "execution_count": 6,
   "id": "e3c7adb6",
   "metadata": {},
   "outputs": [],
   "source": [
    "POWERFILES = [f\"{x}/energy.csv\" for x in DIRS] # list of files having power values "
   ]
  },
  {
   "cell_type": "code",
   "execution_count": 7,
   "id": "4f431891",
   "metadata": {},
   "outputs": [],
   "source": [
    "power_values = [\n",
    "    pd.read_csv(x, names = [\"time\", \"power\"]) for x in POWERFILES\n",
    "] # reading files as Dataframe"
   ]
  },
  {
   "cell_type": "code",
   "execution_count": 8,
   "id": "3dd91942",
   "metadata": {},
   "outputs": [],
   "source": [
    "power_values = [x[x['power'] > 45] for x in power_values] # gets the portion where the CPU was active"
   ]
  },
  {
   "cell_type": "code",
   "execution_count": 9,
   "id": "c90f7ef4",
   "metadata": {},
   "outputs": [],
   "source": [
    "duration = np.array([x['time'].iloc[-1] - x['time'].iloc[0] for x in power_values]) # duration of the run\n",
    "# calculate the total energy consumed during the run\n",
    "energy = np.array([x['power'].mean() * (x['time'].iloc[-1] - x['time'].iloc[0]) for x in power_values])"
   ]
  },
  {
   "cell_type": "code",
   "execution_count": 10,
   "id": "40ada2ac",
   "metadata": {},
   "outputs": [
    {
     "name": "stdout",
     "output_type": "stream",
     "text": [
      "energy: 2624.166 J\n",
      "duration: 31.51 s\n",
      "e: 83.289 (J/s)\n"
     ]
    }
   ],
   "source": [
    "print(\n",
    "    f\"energy: {round(energy.mean(), 3)} J\",\n",
    "    f\"duration: {round(duration.mean(), 3)} s\",\n",
    "    f\"e: {round((energy/duration).mean(), 3)} (J/s)\",\n",
    "    sep='\\n'\n",
    ")"
   ]
  },
  {
   "cell_type": "raw",
   "id": "b717431d",
   "metadata": {},
   "source": [
    "def plot_dataframes(dfs, cols, rows):\n",
    "    plt.rcParams[\"figure.figsize\"] = (50, 50)\n",
    "    fig, axes = plt.subplots(cols, rows)\n",
    "\n",
    "    cnt = 0\n",
    "    for x in range(0, cols):\n",
    "        for y in range(0, rows):\n",
    "            dfs[cnt]['power'].plot.line(ax=axes[x, y])\n",
    "            cnt += 1"
   ]
  },
  {
   "cell_type": "raw",
   "id": "3934fffc",
   "metadata": {},
   "source": [
    "plot_dataframes(power_values, 2, 2)"
   ]
  },
  {
   "cell_type": "markdown",
   "id": "88f5f410",
   "metadata": {},
   "source": [
    "### Performance Values"
   ]
  },
  {
   "cell_type": "code",
   "execution_count": 12,
   "id": "d3d5eb4e",
   "metadata": {},
   "outputs": [],
   "source": [
    "from helpers.stats import SystemStats\n",
    "from helpers.stats import ContainerStats"
   ]
  },
  {
   "cell_type": "code",
   "execution_count": 13,
   "id": "96fe04b1",
   "metadata": {},
   "outputs": [],
   "source": [
    "def get_system_utilization(DIRS):\n",
    "    rows = []\n",
    "    for x in DIRS:\n",
    "        f1, f2 = glob.glob(f\"{x}/system_*.json\")\n",
    "        data = SystemStats(f2, f1).data[0]\n",
    "        rows.append(\n",
    "            {'cpu': data['cpu0'], 'disk': data['disk'], 'io': data['io'], 'duration': data['duration']}\n",
    "        )\n",
    "\n",
    "    return pd.DataFrame.from_records(rows)"
   ]
  },
  {
   "cell_type": "markdown",
   "id": "c529e11e",
   "metadata": {},
   "source": [
    "### Server Performance\n",
    "This section describes the statistics of the whole machine, i.e., not just TTBS. For example, the utilization value also includes the load generated by the operating system services and not just TTBS."
   ]
  },
  {
   "cell_type": "code",
   "execution_count": 14,
   "id": "2b02b8b2",
   "metadata": {},
   "outputs": [
    {
     "data": {
      "text/html": [
       "<div>\n",
       "<style scoped>\n",
       "    .dataframe tbody tr th:only-of-type {\n",
       "        vertical-align: middle;\n",
       "    }\n",
       "\n",
       "    .dataframe tbody tr th {\n",
       "        vertical-align: top;\n",
       "    }\n",
       "\n",
       "    .dataframe thead th {\n",
       "        text-align: right;\n",
       "    }\n",
       "</style>\n",
       "<table border=\"1\" class=\"dataframe\">\n",
       "  <thead>\n",
       "    <tr style=\"text-align: right;\">\n",
       "      <th></th>\n",
       "      <th>cpu</th>\n",
       "      <th>disk</th>\n",
       "      <th>io</th>\n",
       "      <th>duration</th>\n",
       "    </tr>\n",
       "  </thead>\n",
       "  <tbody>\n",
       "    <tr>\n",
       "      <th>0</th>\n",
       "      <td>80.765</td>\n",
       "      <td>9.602</td>\n",
       "      <td>930</td>\n",
       "      <td>37.159730</td>\n",
       "    </tr>\n",
       "    <tr>\n",
       "      <th>1</th>\n",
       "      <td>81.531</td>\n",
       "      <td>22.500</td>\n",
       "      <td>2155</td>\n",
       "      <td>37.635378</td>\n",
       "    </tr>\n",
       "  </tbody>\n",
       "</table>\n",
       "</div>"
      ],
      "text/plain": [
       "      cpu    disk    io   duration\n",
       "0  80.765   9.602   930  37.159730\n",
       "1  81.531  22.500  2155  37.635378"
      ]
     },
     "execution_count": 14,
     "metadata": {},
     "output_type": "execute_result"
    }
   ],
   "source": [
    "system_stats     = get_system_utilization(DIRS)\n",
    "system_stats"
   ]
  },
  {
   "cell_type": "code",
   "execution_count": 15,
   "id": "70561446",
   "metadata": {
    "scrolled": false
   },
   "outputs": [],
   "source": [
    "mean_duration    = system_stats['duration'].mean()\n",
    "mean_disk        = system_stats['disk'].mean()\n",
    "mean_io          = system_stats['io'].mean()\n",
    "sys_mean_cpu     = system_stats['cpu'].mean()\n",
    "arrival_rate     = CUST/mean_duration"
   ]
  },
  {
   "cell_type": "code",
   "execution_count": 16,
   "id": "ef6d8a74",
   "metadata": {},
   "outputs": [
    {
     "name": "stdout",
     "output_type": "stream",
     "text": [
      "Server Stats\n",
      "\n",
      "mean_cpu: 81.148\n",
      "mean_disk: 16.051000000000002\n",
      "mean_duration: 37.39755415916443\n",
      "mean_io: 1542.5\n",
      "arrival_rate: 10.695886642682442\n"
     ]
    }
   ],
   "source": [
    "print(\n",
    "    \"Server Stats\\n\",\n",
    "    f\"mean_cpu: {sys_mean_cpu:}\",\n",
    "    f\"mean_disk: {mean_disk:}\",\n",
    "    f\"mean_duration: {mean_duration:}\",\n",
    "    f\"mean_io: {mean_io:}\",\n",
    "    f\"arrival_rate: {arrival_rate:}\",\n",
    "    sep='\\n'\n",
    ")"
   ]
  },
  {
   "cell_type": "markdown",
   "id": "3f92a1d4",
   "metadata": {},
   "source": [
    "### Throughput of Each Run\n",
    "\n",
    "In this section, we study using the output of JMeter that the system is not subject to congestion. We do that by checking whether the rate of arrival of requests is similar to the throughput"
   ]
  },
  {
   "cell_type": "code",
   "execution_count": 17,
   "id": "13d3dc64",
   "metadata": {},
   "outputs": [],
   "source": [
    "# Read the JTL file\n",
    "def get_jtl_single_run(path):\n",
    "    d = pd.read_csv(f\"{path}/requests.jtl\")\n",
    "    return d[d['label'] == 'BuyTicket']\n",
    "\n",
    "def get_jtl_over_trial(paths):    \n",
    "    return [get_jtl_single_run(x) for x in paths if len(get_jtl_single_run(x)) <= CUST]\n",
    "\n",
    "def calculate_duration_from_jtl(jtl):\n",
    "    last = jtl.iloc[-1]\n",
    "    return ((last.loc['timeStamp'] + last.loc['elapsed']) - jtl.iloc[0].loc['timeStamp'])/1000\n",
    "\n",
    "def calculate_throughput(jtl):\n",
    "    duration = calculate_duration_from_jtl(jtl)\n",
    "    \n",
    "    \"\"\"\n",
    "    print(\n",
    "        f\"requests: {len(jtl)}\",\n",
    "        f\"duration(s): {duration}\"\n",
    "        #f\"duration(s): {(end-start)/1000}\"\n",
    "    )\"\"\"\n",
    "    return len(jtl) / duration"
   ]
  },
  {
   "cell_type": "markdown",
   "id": "daac81f0",
   "metadata": {},
   "source": [
    "jtls = get_jtl_over_trial(DIRS)"
   ]
  },
  {
   "cell_type": "markdown",
   "id": "ddb22609",
   "metadata": {},
   "source": [
    "throughput = np.array([calculate_throughput(x) for x in jtls])\n",
    "duration = np.array([calculate_duration_from_jtl(x) for x in jtls])\n",
    "\n",
    "print(\n",
    "    f\"throughtput {round(throughput.mean(), 3)} request/second\",\n",
    "    f\"duration {round(duration.mean(), 3)} seconds\",\n",
    "    f\"rate {round(CUST/duration.mean(), 3)} request/second\",\n",
    "    sep=\"\\n\"\n",
    ")"
   ]
  },
  {
   "cell_type": "markdown",
   "id": "137ad2cc",
   "metadata": {},
   "source": [
    "### Containers Utilization"
   ]
  },
  {
   "cell_type": "code",
   "execution_count": 28,
   "id": "ca241cb8",
   "metadata": {},
   "outputs": [],
   "source": [
    "def get_containers_stats_single_run(path):\n",
    "    f1, f2 = glob.glob(f\"{path}/containers_*.json\")\n",
    "    data = ContainerStats(f2, f1).data\n",
    "    return {k: [v['cpu'], v['disk'], v['io']] for k,v in data.items()}\n",
    "\n",
    "def get_containers_stats_over_trial(DIRS):\n",
    "    return pd.DataFrame.from_records([get_containers_stats_single_run(x) for x in DIRS])"
   ]
  },
  {
   "cell_type": "code",
   "execution_count": 29,
   "id": "966be022",
   "metadata": {
    "scrolled": false
   },
   "outputs": [],
   "source": [
    "containers_stats = get_containers_stats_over_trial(DIRS)"
   ]
  },
  {
   "cell_type": "code",
   "execution_count": 30,
   "id": "578e3b8d",
   "metadata": {},
   "outputs": [],
   "source": [
    "utilization = pd.DataFrame(columns=['container', 'cpu', 'disk', 'io'])"
   ]
  },
  {
   "cell_type": "code",
   "execution_count": 31,
   "id": "ef7703c1",
   "metadata": {},
   "outputs": [],
   "source": [
    "utilization = pd.DataFrame([{\n",
    "    'container': k, \n",
    "    'cpu'      : np.array([v[0] for v in containers_stats[k]]).mean(),\n",
    "    'disk'     : np.array([v[1] for v in containers_stats[k]]).mean(),\n",
    "    'io'       : np.array([v[2] for v in containers_stats[k]]).mean()\n",
    "} for k in containers_stats.keys()])"
   ]
  },
  {
   "cell_type": "code",
   "execution_count": 32,
   "id": "33921570",
   "metadata": {},
   "outputs": [
    {
     "data": {
      "text/html": [
       "<div>\n",
       "<style scoped>\n",
       "    .dataframe tbody tr th:only-of-type {\n",
       "        vertical-align: middle;\n",
       "    }\n",
       "\n",
       "    .dataframe tbody tr th {\n",
       "        vertical-align: top;\n",
       "    }\n",
       "\n",
       "    .dataframe thead th {\n",
       "        text-align: right;\n",
       "    }\n",
       "</style>\n",
       "<table border=\"1\" class=\"dataframe\">\n",
       "  <thead>\n",
       "    <tr style=\"text-align: right;\">\n",
       "      <th></th>\n",
       "      <th>container</th>\n",
       "      <th>cpu</th>\n",
       "      <th>disk</th>\n",
       "      <th>io</th>\n",
       "    </tr>\n",
       "  </thead>\n",
       "  <tbody>\n",
       "    <tr>\n",
       "      <th>15</th>\n",
       "      <td>baseline-ts-consign-service-1</td>\n",
       "      <td>0.009882</td>\n",
       "      <td>0.000</td>\n",
       "      <td>0.0</td>\n",
       "    </tr>\n",
       "    <tr>\n",
       "      <th>6</th>\n",
       "      <td>baseline-ts-user-service-1</td>\n",
       "      <td>0.010071</td>\n",
       "      <td>0.000</td>\n",
       "      <td>0.0</td>\n",
       "    </tr>\n",
       "    <tr>\n",
       "      <th>23</th>\n",
       "      <td>baseline-ts-inside-payment-mongo-1</td>\n",
       "      <td>0.057190</td>\n",
       "      <td>0.000</td>\n",
       "      <td>0.0</td>\n",
       "    </tr>\n",
       "    <tr>\n",
       "      <th>0</th>\n",
       "      <td>baseline-ts-consign-price-service-1</td>\n",
       "      <td>0.057417</td>\n",
       "      <td>0.000</td>\n",
       "      <td>1.0</td>\n",
       "    </tr>\n",
       "    <tr>\n",
       "      <th>25</th>\n",
       "      <td>baseline-ts-payment-mongo-1</td>\n",
       "      <td>0.058039</td>\n",
       "      <td>0.000</td>\n",
       "      <td>0.0</td>\n",
       "    </tr>\n",
       "    <tr>\n",
       "      <th>33</th>\n",
       "      <td>baseline-ts-assurance-mongo-1</td>\n",
       "      <td>0.058360</td>\n",
       "      <td>0.000</td>\n",
       "      <td>2.0</td>\n",
       "    </tr>\n",
       "    <tr>\n",
       "      <th>31</th>\n",
       "      <td>baseline-ts-ticket-office-mongo-1</td>\n",
       "      <td>0.058856</td>\n",
       "      <td>0.000</td>\n",
       "      <td>2.0</td>\n",
       "    </tr>\n",
       "    <tr>\n",
       "      <th>27</th>\n",
       "      <td>baseline-ts-consign-mongo-1</td>\n",
       "      <td>0.059036</td>\n",
       "      <td>0.000</td>\n",
       "      <td>1.0</td>\n",
       "    </tr>\n",
       "    <tr>\n",
       "      <th>26</th>\n",
       "      <td>baseline-ts-price-mongo-1</td>\n",
       "      <td>0.097745</td>\n",
       "      <td>0.000</td>\n",
       "      <td>1.0</td>\n",
       "    </tr>\n",
       "    <tr>\n",
       "      <th>29</th>\n",
       "      <td>baseline-ts-food-map-mongo-1</td>\n",
       "      <td>0.150222</td>\n",
       "      <td>0.000</td>\n",
       "      <td>2.0</td>\n",
       "    </tr>\n",
       "    <tr>\n",
       "      <th>32</th>\n",
       "      <td>baseline-ts-train-mongo-1</td>\n",
       "      <td>0.206224</td>\n",
       "      <td>0.000</td>\n",
       "      <td>1.0</td>\n",
       "    </tr>\n",
       "    <tr>\n",
       "      <th>24</th>\n",
       "      <td>baseline-ts-order-mongo-1</td>\n",
       "      <td>0.210924</td>\n",
       "      <td>0.000</td>\n",
       "      <td>2.0</td>\n",
       "    </tr>\n",
       "    <tr>\n",
       "      <th>34</th>\n",
       "      <td>baseline-ts-travel-mongo-1</td>\n",
       "      <td>0.219329</td>\n",
       "      <td>0.000</td>\n",
       "      <td>0.0</td>\n",
       "    </tr>\n",
       "    <tr>\n",
       "      <th>28</th>\n",
       "      <td>baseline-ts-route-mongo-1</td>\n",
       "      <td>0.278042</td>\n",
       "      <td>0.000</td>\n",
       "      <td>2.0</td>\n",
       "    </tr>\n",
       "    <tr>\n",
       "      <th>30</th>\n",
       "      <td>baseline-ts-contacts-mongo-1</td>\n",
       "      <td>0.477125</td>\n",
       "      <td>1.869</td>\n",
       "      <td>424.5</td>\n",
       "    </tr>\n",
       "    <tr>\n",
       "      <th>1</th>\n",
       "      <td>baseline-ts-price-service-1</td>\n",
       "      <td>0.478649</td>\n",
       "      <td>0.000</td>\n",
       "      <td>0.0</td>\n",
       "    </tr>\n",
       "    <tr>\n",
       "      <th>9</th>\n",
       "      <td>baseline-ts-order-other-service-1</td>\n",
       "      <td>0.514785</td>\n",
       "      <td>0.000</td>\n",
       "      <td>0.0</td>\n",
       "    </tr>\n",
       "    <tr>\n",
       "      <th>12</th>\n",
       "      <td>baseline-ts-assurance-service-1</td>\n",
       "      <td>0.565819</td>\n",
       "      <td>0.000</td>\n",
       "      <td>0.0</td>\n",
       "    </tr>\n",
       "    <tr>\n",
       "      <th>7</th>\n",
       "      <td>baseline-ts-config-service-1</td>\n",
       "      <td>0.824654</td>\n",
       "      <td>0.000</td>\n",
       "      <td>0.0</td>\n",
       "    </tr>\n",
       "    <tr>\n",
       "      <th>21</th>\n",
       "      <td>baseline-ts-ui-dashboard-1</td>\n",
       "      <td>0.903677</td>\n",
       "      <td>0.000</td>\n",
       "      <td>0.0</td>\n",
       "    </tr>\n",
       "    <tr>\n",
       "      <th>14</th>\n",
       "      <td>baseline-ts-security-service-1</td>\n",
       "      <td>0.980602</td>\n",
       "      <td>0.000</td>\n",
       "      <td>0.0</td>\n",
       "    </tr>\n",
       "    <tr>\n",
       "      <th>20</th>\n",
       "      <td>baseline-ts-food-map-service-1</td>\n",
       "      <td>1.025251</td>\n",
       "      <td>0.000</td>\n",
       "      <td>0.0</td>\n",
       "    </tr>\n",
       "    <tr>\n",
       "      <th>17</th>\n",
       "      <td>baseline-ts-verification-code-service-1</td>\n",
       "      <td>1.272348</td>\n",
       "      <td>0.000</td>\n",
       "      <td>0.0</td>\n",
       "    </tr>\n",
       "    <tr>\n",
       "      <th>18</th>\n",
       "      <td>baseline-ts-food-service-1</td>\n",
       "      <td>1.421224</td>\n",
       "      <td>0.000</td>\n",
       "      <td>0.0</td>\n",
       "    </tr>\n",
       "    <tr>\n",
       "      <th>16</th>\n",
       "      <td>baseline-ts-train-service-1</td>\n",
       "      <td>1.648216</td>\n",
       "      <td>0.000</td>\n",
       "      <td>0.0</td>\n",
       "    </tr>\n",
       "    <tr>\n",
       "      <th>3</th>\n",
       "      <td>baseline-ts-order-service-1</td>\n",
       "      <td>1.808766</td>\n",
       "      <td>0.000</td>\n",
       "      <td>0.0</td>\n",
       "    </tr>\n",
       "    <tr>\n",
       "      <th>19</th>\n",
       "      <td>baseline-ts-seat-service-1</td>\n",
       "      <td>2.028369</td>\n",
       "      <td>0.000</td>\n",
       "      <td>0.0</td>\n",
       "    </tr>\n",
       "    <tr>\n",
       "      <th>11</th>\n",
       "      <td>baseline-ts-preserve-service-1</td>\n",
       "      <td>2.167195</td>\n",
       "      <td>0.000</td>\n",
       "      <td>0.0</td>\n",
       "    </tr>\n",
       "    <tr>\n",
       "      <th>2</th>\n",
       "      <td>baseline-ts-contacts-service-1</td>\n",
       "      <td>2.531304</td>\n",
       "      <td>0.000</td>\n",
       "      <td>0.0</td>\n",
       "    </tr>\n",
       "    <tr>\n",
       "      <th>4</th>\n",
       "      <td>baseline-ts-route-service-1</td>\n",
       "      <td>3.842328</td>\n",
       "      <td>0.000</td>\n",
       "      <td>0.0</td>\n",
       "    </tr>\n",
       "    <tr>\n",
       "      <th>8</th>\n",
       "      <td>baseline-ts-ticketinfo-service-1</td>\n",
       "      <td>4.209764</td>\n",
       "      <td>0.000</td>\n",
       "      <td>0.0</td>\n",
       "    </tr>\n",
       "    <tr>\n",
       "      <th>13</th>\n",
       "      <td>baseline-ts-basic-service-1</td>\n",
       "      <td>5.080402</td>\n",
       "      <td>0.000</td>\n",
       "      <td>0.0</td>\n",
       "    </tr>\n",
       "    <tr>\n",
       "      <th>10</th>\n",
       "      <td>baseline-ts-station-service-1</td>\n",
       "      <td>5.147504</td>\n",
       "      <td>0.000</td>\n",
       "      <td>0.0</td>\n",
       "    </tr>\n",
       "    <tr>\n",
       "      <th>5</th>\n",
       "      <td>baseline-ts-travel-service-1</td>\n",
       "      <td>7.412933</td>\n",
       "      <td>0.000</td>\n",
       "      <td>0.0</td>\n",
       "    </tr>\n",
       "    <tr>\n",
       "      <th>22</th>\n",
       "      <td>baseline-ts-auth-service-1</td>\n",
       "      <td>25.484685</td>\n",
       "      <td>0.000</td>\n",
       "      <td>0.0</td>\n",
       "    </tr>\n",
       "  </tbody>\n",
       "</table>\n",
       "</div>"
      ],
      "text/plain": [
       "                                  container        cpu   disk     io\n",
       "15            baseline-ts-consign-service-1   0.009882  0.000    0.0\n",
       "6                baseline-ts-user-service-1   0.010071  0.000    0.0\n",
       "23       baseline-ts-inside-payment-mongo-1   0.057190  0.000    0.0\n",
       "0       baseline-ts-consign-price-service-1   0.057417  0.000    1.0\n",
       "25              baseline-ts-payment-mongo-1   0.058039  0.000    0.0\n",
       "33            baseline-ts-assurance-mongo-1   0.058360  0.000    2.0\n",
       "31        baseline-ts-ticket-office-mongo-1   0.058856  0.000    2.0\n",
       "27              baseline-ts-consign-mongo-1   0.059036  0.000    1.0\n",
       "26                baseline-ts-price-mongo-1   0.097745  0.000    1.0\n",
       "29             baseline-ts-food-map-mongo-1   0.150222  0.000    2.0\n",
       "32                baseline-ts-train-mongo-1   0.206224  0.000    1.0\n",
       "24                baseline-ts-order-mongo-1   0.210924  0.000    2.0\n",
       "34               baseline-ts-travel-mongo-1   0.219329  0.000    0.0\n",
       "28                baseline-ts-route-mongo-1   0.278042  0.000    2.0\n",
       "30             baseline-ts-contacts-mongo-1   0.477125  1.869  424.5\n",
       "1               baseline-ts-price-service-1   0.478649  0.000    0.0\n",
       "9         baseline-ts-order-other-service-1   0.514785  0.000    0.0\n",
       "12          baseline-ts-assurance-service-1   0.565819  0.000    0.0\n",
       "7              baseline-ts-config-service-1   0.824654  0.000    0.0\n",
       "21               baseline-ts-ui-dashboard-1   0.903677  0.000    0.0\n",
       "14           baseline-ts-security-service-1   0.980602  0.000    0.0\n",
       "20           baseline-ts-food-map-service-1   1.025251  0.000    0.0\n",
       "17  baseline-ts-verification-code-service-1   1.272348  0.000    0.0\n",
       "18               baseline-ts-food-service-1   1.421224  0.000    0.0\n",
       "16              baseline-ts-train-service-1   1.648216  0.000    0.0\n",
       "3               baseline-ts-order-service-1   1.808766  0.000    0.0\n",
       "19               baseline-ts-seat-service-1   2.028369  0.000    0.0\n",
       "11           baseline-ts-preserve-service-1   2.167195  0.000    0.0\n",
       "2            baseline-ts-contacts-service-1   2.531304  0.000    0.0\n",
       "4               baseline-ts-route-service-1   3.842328  0.000    0.0\n",
       "8          baseline-ts-ticketinfo-service-1   4.209764  0.000    0.0\n",
       "13              baseline-ts-basic-service-1   5.080402  0.000    0.0\n",
       "10            baseline-ts-station-service-1   5.147504  0.000    0.0\n",
       "5              baseline-ts-travel-service-1   7.412933  0.000    0.0\n",
       "22               baseline-ts-auth-service-1  25.484685  0.000    0.0"
      ]
     },
     "execution_count": 32,
     "metadata": {},
     "output_type": "execute_result"
    }
   ],
   "source": [
    "utilization.sort_values(by=['cpu'])"
   ]
  },
  {
   "cell_type": "code",
   "execution_count": 33,
   "id": "dcd46c85",
   "metadata": {},
   "outputs": [
    {
     "name": "stdout",
     "output_type": "stream",
     "text": [
      "Total Utilization of TTBS: 71.357 %\n"
     ]
    }
   ],
   "source": [
    "print(f\"Total Utilization of TTBS: {round(utilization['cpu'].sum(), 3)} %\")"
   ]
  },
  {
   "cell_type": "code",
   "execution_count": 34,
   "id": "9b69720f",
   "metadata": {},
   "outputs": [],
   "source": [
    "# service_time = (utilization['cpu'].to_numpy() / 100) / arrival_rate"
   ]
  },
  {
   "cell_type": "code",
   "execution_count": 35,
   "id": "9381fc16",
   "metadata": {},
   "outputs": [
    {
     "name": "stdout",
     "output_type": "stream",
     "text": [
      "container                                     service_time \n",
      "\n",
      "baseline-ts-consign-price-service-1           5.368e-05\n",
      "baseline-ts-price-service-1                   0.00044751\n",
      "baseline-ts-contacts-service-1                0.00236661\n",
      "baseline-ts-order-service-1                   0.00169109\n",
      "baseline-ts-route-service-1                   0.00359234\n",
      "baseline-ts-travel-service-1                  0.00693064\n",
      "baseline-ts-user-service-1                    9.42e-06\n",
      "baseline-ts-config-service-1                  0.000771\n",
      "baseline-ts-ticketinfo-service-1              0.00393587\n",
      "baseline-ts-order-other-service-1             0.00048129\n",
      "baseline-ts-station-service-1                 0.0048126\n",
      "baseline-ts-preserve-service-1                0.00202619\n",
      "baseline-ts-assurance-service-1               0.00052901\n",
      "baseline-ts-basic-service-1                   0.00474987\n",
      "baseline-ts-security-service-1                0.0009168\n",
      "baseline-ts-consign-service-1                 9.24e-06\n",
      "baseline-ts-train-service-1                   0.00154098\n",
      "baseline-ts-verification-code-service-1       0.00118957\n",
      "baseline-ts-food-service-1                    0.00132876\n",
      "baseline-ts-seat-service-1                    0.0018964\n",
      "baseline-ts-food-map-service-1                0.00095855\n",
      "baseline-ts-ui-dashboard-1                    0.00084488\n",
      "baseline-ts-auth-service-1                    0.02382662\n",
      "baseline-ts-inside-payment-mongo-1            5.347e-05\n",
      "baseline-ts-order-mongo-1                     0.0001972\n",
      "baseline-ts-payment-mongo-1                   5.426e-05\n",
      "baseline-ts-price-mongo-1                     9.139e-05\n",
      "baseline-ts-consign-mongo-1                   5.519e-05\n",
      "baseline-ts-route-mongo-1                     0.00025995\n",
      "baseline-ts-food-map-mongo-1                  0.00014045\n",
      "baseline-ts-contacts-mongo-1                  0.00044608\n",
      "baseline-ts-ticket-office-mongo-1             5.503e-05\n",
      "baseline-ts-train-mongo-1                     0.00019281\n",
      "baseline-ts-assurance-mongo-1                 5.456e-05\n",
      "baseline-ts-travel-mongo-1                    0.00020506\n"
     ]
    }
   ],
   "source": [
    "# average busy time of each container during while serving a batch of customers\n",
    "print(f\"container{' '*37}service_time \\n\")\n",
    "for i, u in utilization.iterrows():\n",
    "    print(f\"{u['container']:<45} {round((u['cpu'] / 100) / arrival_rate, 8)}\")"
   ]
  },
  {
   "cell_type": "code",
   "execution_count": null,
   "id": "1ef859a8",
   "metadata": {},
   "outputs": [],
   "source": []
  },
  {
   "cell_type": "code",
   "execution_count": null,
   "id": "b2020653",
   "metadata": {},
   "outputs": [],
   "source": []
  }
 ],
 "metadata": {
  "kernelspec": {
   "display_name": "Python 3 (ipykernel)",
   "language": "python",
   "name": "python3"
  },
  "language_info": {
   "codemirror_mode": {
    "name": "ipython",
    "version": 3
   },
   "file_extension": ".py",
   "mimetype": "text/x-python",
   "name": "python",
   "nbconvert_exporter": "python",
   "pygments_lexer": "ipython3",
   "version": "3.10.9"
  }
 },
 "nbformat": 4,
 "nbformat_minor": 5
}
